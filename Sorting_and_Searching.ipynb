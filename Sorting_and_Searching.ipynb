{
 "cells": [
  {
   "cell_type": "markdown",
   "id": "09b70588-c5b2-49db-9eb9-8ce5c258be6e",
   "metadata": {},
   "source": [
    "Problem 1 :\n",
    "Intersection of Two Sorted Arrays\n",
    "Write a Python program to find the intersection of two sorted arrays.\n",
    "Input:\n",
    "A = [1, 3, 5, 7, 9]\n",
    "B = [2, 4, 5, 8]\n",
    "Output:\n",
    "Intersection: [5]"
   ]
  },
  {
   "cell_type": "code",
   "execution_count": 5,
   "id": "d549ee76-2c4c-4268-ac6a-8d4b66a43e7c",
   "metadata": {},
   "outputs": [
    {
     "name": "stdout",
     "output_type": "stream",
     "text": [
      "[5]\n"
     ]
    }
   ],
   "source": [
    "A = [1, 3, 5, 7, 9]\n",
    "B = [2, 4, 5, 8]\n",
    "c=[]\n",
    "for i in range(len(A)):\n",
    "    for j in range(len(B)):\n",
    "        if A[i]==B[j]:\n",
    "            c.append(A[i])\n",
    "            \n",
    "print(c)            "
   ]
  },
  {
   "cell_type": "markdown",
   "id": "60f41f01-2f50-49ba-85cd-bc931d19f0e5",
   "metadata": {},
   "source": [
    "Problem 2 :\n",
    "Find the Kth Smallest Element\n",
    "Write a Python function to find the kth smallest element in an unsorted list.\n",
    "Input:\n",
    "[12, 3, 1, 7, 8, 20], k = 3\n",
    "Output:\n",
    "The 3rd smallest element is 7"
   ]
  },
  {
   "cell_type": "code",
   "execution_count": 12,
   "id": "41d7a0a0-4c76-47f7-a607-6b9bf410aedf",
   "metadata": {},
   "outputs": [
    {
     "name": "stdout",
     "output_type": "stream",
     "text": [
      "7\n"
     ]
    }
   ],
   "source": [
    "def kth_smallelement(arr,k):\n",
    "    for i in range(len(arr)-1,0,-1):\n",
    "        for j in range(i):\n",
    "            if (arr[j]>arr[j+1]):\n",
    "                arr[j],arr[j+1]=arr[j+1],arr[j]\n",
    "    return arr[k-1]            \n",
    "arr=[12, 3, 1, 7, 8, 20]  \n",
    "k=3\n",
    "result=kth_smallelement(arr,k)\n",
    "print(result)\n"
   ]
  },
  {
   "cell_type": "markdown",
   "id": "9d8a3b95-4d56-44be-b3d9-80924ba8f928",
   "metadata": {},
   "source": [
    "Problem 3 :\n",
    "Binary Search in a Rotated Sorted Array\n",
    "Implement a Python program to perform a binary search on a rotated sorted array.\n",
    "Input:\n",
    "[4, 5, 6, 7, 8, 9, 1, 2, 3], 6\n",
    "Output:\n",
    "Element 6 found at index 2"
   ]
  },
  {
   "cell_type": "code",
   "execution_count": 21,
   "id": "168660db-3f96-4990-9b33-2d6f3b2fd396",
   "metadata": {},
   "outputs": [
    {
     "name": "stdout",
     "output_type": "stream",
     "text": [
      "Element 6 found at index 2\n"
     ]
    }
   ],
   "source": [
    "def binary_search(arr, low, high, x):\n",
    "     if high >= low:\n",
    " \n",
    "        mid = (high + low) // 2\n",
    "        if arr[mid] == x:\n",
    "            return mid\n",
    "\n",
    "        elif arr[mid] > x:\n",
    "            return binary_search(arr, low, mid - 1, x)\n",
    "        else:\n",
    "            return binary_search(arr, mid + 1, high, x)\n",
    " \n",
    "     else:\n",
    "        return -1\n",
    "arr = [4, 5, 6, 7, 8, 9, 1, 2, 3]\n",
    "x = 6\n",
    " \n",
    "result = binary_search(arr, 0, len(arr)-1, x)\n",
    " \n",
    "if result != -1:\n",
    "    print(f\"Element {x} found at index\", str(result))\n",
    "else:\n",
    "    print(\"Element is not present in array\")"
   ]
  },
  {
   "cell_type": "markdown",
   "id": "6727e8f7-8532-4dab-9e72-21c7ae17f022",
   "metadata": {},
   "source": [
    "Problem 4 :\n",
    "Searching in a Matrix\n",
    "Write a Python program that searches for a given element in a 2D matrix and returns its position.\n",
    "Input:\n",
    "Matrix = [\n",
    "[1, 3, 5],\n",
    "[7, 9, 11],\n",
    "[13, 15, 17]\n",
    "]\n",
    "Element = 11\n",
    "\n",
    "Assignment Questions\n",
    "Output:\n",
    "Element 11 found at position (1, 2)"
   ]
  },
  {
   "cell_type": "code",
   "execution_count": 1,
   "id": "b360a232-8c8e-4cb7-935e-371a35fa5173",
   "metadata": {},
   "outputs": [
    {
     "name": "stdout",
     "output_type": "stream",
     "text": [
      "Element 11 found at position (1, 2)\n"
     ]
    }
   ],
   "source": [
    "def search_in_matrix(matrix, target):\n",
    "    rows = len(matrix)\n",
    "    cols = len(matrix[0])\n",
    "\n",
    "    for i in range(rows):\n",
    "        for j in range(cols):\n",
    "            if matrix[i][j] == target:\n",
    "                return i, j\n",
    "\n",
    "    return None\n",
    "\n",
    "matrix = [\n",
    "    [1, 3, 5],\n",
    "    [7, 9, 11],\n",
    "    [13, 15, 17]\n",
    "]\n",
    "element = 11\n",
    "\n",
    "result = search_in_matrix(matrix, element)\n",
    "\n",
    "if result:\n",
    "    print(f\"Element {element} found at position {result}\")\n",
    "else:\n",
    "    print(f\"Element {element} not found in the matrix\")\n"
   ]
  },
  {
   "cell_type": "markdown",
   "id": "4f56b540-e0cf-4294-bb0f-b6534d496ba8",
   "metadata": {},
   "source": [
    "Problem 5 :\n",
    "Sorting Strings by Length\n",
    "Write a Python program that takes a list of strings and sorts them based on their length.\n",
    "Input:\n",
    "['apple', 'banana', 'kiwi', 'orange', 'grape']\n",
    "Output:\n",
    "['kiwi', 'grape', 'apple', 'banana', 'orange']"
   ]
  },
  {
   "cell_type": "code",
   "execution_count": 26,
   "id": "332713ba-c6a0-4ad8-adfd-ac22e9afdd20",
   "metadata": {},
   "outputs": [
    {
     "name": "stdout",
     "output_type": "stream",
     "text": [
      "['kiwi', 'apple', 'grape', 'banana', 'orange']\n"
     ]
    }
   ],
   "source": [
    "def sort_strings_by_length(strings):\n",
    "    return sorted(strings, key=len)\n",
    "input_strings = ['apple', 'banana', 'kiwi', 'orange', 'grape']\n",
    "\n",
    "sorted_strings = sort_strings_by_length(input_strings)\n",
    "print(sorted_strings)"
   ]
  },
  {
   "cell_type": "markdown",
   "id": "86a1a1b4-6378-4cc0-a7c4-a815e3896676",
   "metadata": {},
   "source": [
    "Problem 6 :\n",
    "Implementing the merge sort ( Will be discussed in the class )\n"
   ]
  },
  {
   "cell_type": "code",
   "execution_count": 6,
   "id": "dc69f165-0dbb-4e67-a13d-cde7ee251b92",
   "metadata": {},
   "outputs": [
    {
     "name": "stdout",
     "output_type": "stream",
     "text": [
      "[5, 6, 7, 11, 12, 13]\n"
     ]
    }
   ],
   "source": [
    "def mergeSort(arr):\n",
    "    if(len(arr)<=1):\n",
    "        return\n",
    "    mid=len(arr)//2\n",
    "    left=arr[:mid]\n",
    "    right=arr[mid:]\n",
    "    mergeSort(left)\n",
    "    mergeSort(right)\n",
    "    merge(left,right,arr)\n",
    "def merge(left,right,arr):\n",
    "    i=0\n",
    "    j=0\n",
    "    k=0\n",
    "    while i<len(left) and j<len(right):\n",
    "        if (left[i]<=right[j]):\n",
    "            arr[k]=left[i]\n",
    "            i+=1\n",
    "        else:\n",
    "            arr[k]=right[j]\n",
    "            j+=1\n",
    "        k+=1    \n",
    "    while i<len(left):\n",
    "        arr[k]=left[i]\n",
    "        i+=1\n",
    "        k+=1\n",
    "    while j<len(right):\n",
    "        arr[k]=right[j]\n",
    "        j+=1\n",
    "        k+=1\n",
    "l1=[12,11,13,5,6,7]        \n",
    "result=mergeSort(l1)\n",
    "print(l1)"
   ]
  },
  {
   "cell_type": "markdown",
   "id": "65b9d13f-14c6-49c0-8dae-bbff69df80a4",
   "metadata": {},
   "source": [
    "Problem 7 :\n",
    "Implementing the quick sort ( will be discussed in the class )"
   ]
  },
  {
   "cell_type": "code",
   "execution_count": 4,
   "id": "ef8f3f8b-e242-4828-8320-afae20f3b9c8",
   "metadata": {},
   "outputs": [
    {
     "name": "stdout",
     "output_type": "stream",
     "text": [
      "[5, 6, 7, 11, 12, 13]\n"
     ]
    }
   ],
   "source": [
    "def quickSort(arr,low,high):\n",
    "    if low>=high:\n",
    "        return\n",
    "    pi=partition(arr,low,high)\n",
    "    quickSort(arr,low,pi-1)\n",
    "    quickSort(arr,pi+1,high)\n",
    "def partition(arr,low,high):\n",
    "    pivot=arr[high]\n",
    "    i=low-1\n",
    "    for j in range(low,high):\n",
    "        if(arr[j]<=pivot):\n",
    "            i=i+1\n",
    "            arr[i],arr[j]=arr[j],arr[i]\n",
    "    arr[i+1],arr[high]=arr[high],arr[i+1]\n",
    "    return i+1\n",
    "\n",
    "l1=[12,11,13,5,6,7]\n",
    "quickSort(l1,0,len(l1)-1)\n",
    "print(l1)"
   ]
  },
  {
   "cell_type": "markdown",
   "id": "6d03bafd-2ceb-4fdb-b7ec-724a5e9c226c",
   "metadata": {},
   "source": [
    "Problem 8 :\n",
    "Implementing the count sort ( will be discussed in the class )\n"
   ]
  },
  {
   "cell_type": "code",
   "execution_count": null,
   "id": "e08c391b-7fbe-4aba-936d-ad40cc535c7f",
   "metadata": {},
   "outputs": [],
   "source": [
    "def counting_sort(arr):\n",
    "    max_element = max(arr)\n",
    "    \n",
    "    count = [0] * (max_element + 1)\n",
    "\n",
    "    for num in arr:\n",
    "        count[num] += 1\n",
    "    sorted_array = []\n",
    "    for i in range(len(count)):\n",
    "        sorted_array.extend([i] * count[i])\n",
    "\n",
    "    return sorted_array\n",
    "\n",
    "# Example usage\n",
    "input_array = [4, 2, 7, 1, 3, 4, 6]\n",
    "sorted_array = counting_sort(input_array)\n",
    "\n",
    "print(\"Original Array:\", input_array)\n",
    "print(\"Sorted Array  :\", sorted_array)\n"
   ]
  },
  {
   "cell_type": "markdown",
   "id": "1bb84896-4cb8-4523-b39b-4e7361a4d8c6",
   "metadata": {},
   "source": [
    "Problem 9 :\n",
    "Implement a Python function to find a peak element in an array. A peak element is an element that is greater\n",
    "than or equal to its neighbors.\n",
    "Input:\n",
    "[1, 3, 20, 4, 1, 0]\n",
    "Output:\n",
    "Peak element is 20"
   ]
  },
  {
   "cell_type": "code",
   "execution_count": 2,
   "id": "e31dad56-0417-4b74-be25-28b63e8b4c1a",
   "metadata": {},
   "outputs": [
    {
     "name": "stdout",
     "output_type": "stream",
     "text": [
      "Peak element is 20\n"
     ]
    }
   ],
   "source": [
    "def find_peak_element(arr):\n",
    "    n = len(arr)\n",
    "\n",
    "    if n == 1:\n",
    "        return arr[0]\n",
    "    if arr[0] >= arr[1]:\n",
    "        return arr[0]\n",
    "    if arr[n - 1] >= arr[n - 2]:\n",
    "        return arr[n - 1]\n",
    "\n",
    "    for i in range(1, n - 1):\n",
    "        if arr[i] >= arr[i - 1] and arr[i] >= arr[i + 1]:\n",
    "            return arr[i]\n",
    "\n",
    "    return None\n",
    "\n",
    "input_array = [1, 3, 20, 4, 1, 0]\n",
    "peak_element = find_peak_element(input_array)\n",
    "\n",
    "if peak_element is not None:\n",
    "    print(f\"Peak element is {peak_element}\")\n",
    "else:\n",
    "    print(\"No peak element found in the array\")\n"
   ]
  },
  {
   "cell_type": "markdown",
   "id": "f2e30d8a-b216-4f8e-bbdd-b8eec9ca742e",
   "metadata": {},
   "source": [
    "Problem 10 :\n",
    "Search in a Nearly Sorted Array\n",
    "Implement a Python program to perform a binary search in a nearly sorted array. In a nearly sorted array, each\n",
    "element is at most k positions away from its sorted position.\n",
    "Input:\n",
    "[2, 1, 3, 4, 6, 5, 7], k = 1\n",
    "Output:\n",
    "Element 5 found at index 4"
   ]
  },
  {
   "cell_type": "code",
   "execution_count": 5,
   "id": "a1f260ca-a273-413a-b777-6f1aef5ffadf",
   "metadata": {},
   "outputs": [
    {
     "name": "stdout",
     "output_type": "stream",
     "text": [
      "Element 5 found at index 5\n"
     ]
    }
   ],
   "source": [
    "def binary_search_nearly_sorted(arr, target, k):\n",
    "    low, high = 0, len(arr) - 1\n",
    "\n",
    "    while low <= high:\n",
    "        mid = (low + high) // 2\n",
    "\n",
    "        if arr[mid] == target:\n",
    "            return mid\n",
    "        for i in range(max(0, mid - k), min(len(arr) - 1, mid + k) + 1):\n",
    "            if arr[i] == target:\n",
    "                return i\n",
    "\n",
    "        if target < arr[mid]:\n",
    "            high = mid - 1\n",
    "        else:\n",
    "            low = mid + 1\n",
    "\n",
    "    return -1\n",
    "\n",
    "input_array = [2, 1, 3, 4, 6, 5, 7]\n",
    "element_to_find = 5\n",
    "k = 1\n",
    "\n",
    "result = binary_search_nearly_sorted(input_array, element_to_find, k)\n",
    "\n",
    "if result != -1:\n",
    "    print(f\"Element {element_to_find} found at index {result}\")\n",
    "else:\n",
    "    print(f\"Element {element_to_find} not found in the nearly sorted array\")\n"
   ]
  },
  {
   "cell_type": "code",
   "execution_count": null,
   "id": "56dc0eb5-bb4a-4779-b62b-00f4dba3178e",
   "metadata": {},
   "outputs": [],
   "source": []
  },
  {
   "cell_type": "code",
   "execution_count": null,
   "id": "1a574398-7ddd-4610-b02f-75eb05bbf403",
   "metadata": {},
   "outputs": [],
   "source": []
  },
  {
   "cell_type": "code",
   "execution_count": null,
   "id": "037020f8-4919-4edd-949a-72db53d67655",
   "metadata": {},
   "outputs": [],
   "source": []
  }
 ],
 "metadata": {
  "kernelspec": {
   "display_name": "Python 3 (ipykernel)",
   "language": "python",
   "name": "python3"
  },
  "language_info": {
   "codemirror_mode": {
    "name": "ipython",
    "version": 3
   },
   "file_extension": ".py",
   "mimetype": "text/x-python",
   "name": "python",
   "nbconvert_exporter": "python",
   "pygments_lexer": "ipython3",
   "version": "3.10.8"
  }
 },
 "nbformat": 4,
 "nbformat_minor": 5
}
